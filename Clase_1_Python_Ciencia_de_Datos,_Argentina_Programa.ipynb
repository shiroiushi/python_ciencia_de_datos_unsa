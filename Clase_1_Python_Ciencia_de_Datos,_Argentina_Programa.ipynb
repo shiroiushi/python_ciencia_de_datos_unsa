{
  "nbformat": 4,
  "nbformat_minor": 0,
  "metadata": {
    "colab": {
      "provenance": [],
      "include_colab_link": true
    },
    "kernelspec": {
      "name": "python3",
      "display_name": "Python 3"
    },
    "language_info": {
      "name": "python"
    }
  },
  "cells": [
    {
      "cell_type": "markdown",
      "metadata": {
        "id": "view-in-github",
        "colab_type": "text"
      },
      "source": [
        "<a href=\"https://colab.research.google.com/github/shiroiushi/python_ciencia_de_datos_unsa/blob/main/Clase_1_Python_Ciencia_de_Datos%2C_Argentina_Programa.ipynb\" target=\"_parent\"><img src=\"https://colab.research.google.com/assets/colab-badge.svg\" alt=\"Open In Colab\"/></a>"
      ]
    },
    {
      "cell_type": "markdown",
      "source": [
        "Argentina Programa\\\n",
        "Clase 1 Introduccion a Python \\\n",
        "En esta clase se veran los conocimientos para poder dar nuestros primeros pasos en python\\\n",
        "1) Estructudas de control if , ciclos\\\n",
        "2) Manejo de listas y de vectores\\\n",
        "3) Manejo de cadenas \\\n",
        "4) Manejo de diccionarios\\\n",
        "5) Funciones \\"
      ],
      "metadata": {
        "id": "yZb8iYxS86_P"
      }
    },
    {
      "cell_type": "code",
      "execution_count": null,
      "metadata": {
        "colab": {
          "base_uri": "https://localhost:8080/"
        },
        "id": "FNGQwl7r81pV",
        "outputId": "6c2ca6bb-8b4b-4e46-b2f5-646c532431fc"
      },
      "outputs": [
        {
          "output_type": "stream",
          "name": "stdout",
          "text": [
            "Caso que la condicion sea verdadera\n"
          ]
        }
      ],
      "source": [
        "#1) Estructuras de control if y ciclos\n",
        "#Empezaremos con la estructura if , que hace refencia a la alternativa si o sino\n",
        "\n",
        "cond=0\n",
        "if cond==0 :\n",
        "  print (\"Caso que la condicion sea verdadera\")\n",
        "else :\n",
        "  print (\"Caso que la condicion sea falsa\")"
      ]
    },
    {
      "cell_type": "code",
      "source": [
        "#ejemplo\n",
        "#como obtener valor por teclado\n",
        "num=int(input())\n",
        "#Caso si\n",
        "if(num >0 ):\n",
        "  print (\"El numero es Mayor de 0\")\n",
        "else :\n",
        "  print (\"El numero es menor que 0\")\n",
        "\n",
        "#Tarea Modificar para que distinga si es 0 o menor que 0"
      ],
      "metadata": {
        "colab": {
          "base_uri": "https://localhost:8080/"
        },
        "id": "2mcAsO0nBYIN",
        "outputId": "35787eca-f68b-4173-dcf6-a1f1bc61e944"
      },
      "execution_count": null,
      "outputs": [
        {
          "output_type": "stream",
          "name": "stdout",
          "text": [
            "0\n",
            "El numero es menor que 0\n"
          ]
        }
      ]
    },
    {
      "cell_type": "code",
      "source": [
        "#Ahora veremos los distintos tipos de ciclos\n",
        "#Ciclo condicional , es un ciclo que se repetite tantas veces hasta que no se cumpla la condicion\n",
        "cond=0\n",
        "while (cond <10): # el ciclo se ejecutara mientra la condicion se cumpl\n",
        "  cond=cond+1# Tarea\n",
        "#este ciclo se ejecutara mientras\n",
        "#ejemplo\n",
        "x=int(input(\"Ingrese un numero \"))\n",
        "while x % 2==0: # Este ciclo se ejecutara mientras\n",
        "  x=int(input(\"Ingrese un numero\"))\n",
        "print(\"Salii Del Ciclo\")"
      ],
      "metadata": {
        "colab": {
          "base_uri": "https://localhost:8080/"
        },
        "id": "K6OZmzoiHRJc",
        "outputId": "1ee51ab7-3702-41e1-a875-47f699f4c1d3"
      },
      "execution_count": null,
      "outputs": [
        {
          "output_type": "stream",
          "name": "stdout",
          "text": [
            "Ingrese un numero 10\n",
            "Ingrese un numero20\n",
            "Ingrese un numero32\n",
            "Ingrese un numero6\n",
            "Ingrese un numero3\n",
            "Salii Del Ciclo\n"
          ]
        }
      ]
    },
    {
      "cell_type": "code",
      "source": [
        "#Ciclo incondicional , es cuando yo se cuantas veces se tiene que repetir el mismo\n",
        "inicio=0 # Variable con la cual inicia el ciclo\n",
        "maximo=10 # Variable con la cual termina el ciclo\n",
        "salto=1 # incremento que ira haciendo la variable de iteracion\n",
        "for variable_iteracion in range(inicio,maximo,salto):\n",
        "  print(variable_iteracion)"
      ],
      "metadata": {
        "colab": {
          "base_uri": "https://localhost:8080/"
        },
        "id": "_1Nu0fMwPsna",
        "outputId": "56817f96-0ca4-4bba-8eef-049057dab930"
      },
      "execution_count": null,
      "outputs": [
        {
          "output_type": "stream",
          "name": "stdout",
          "text": [
            "0\n",
            "1\n",
            "2\n",
            "3\n",
            "4\n",
            "5\n",
            "6\n",
            "7\n",
            "8\n",
            "9\n"
          ]
        }
      ]
    },
    {
      "cell_type": "code",
      "source": [
        "#2) Manejo de listas o Vectores\n",
        "\"\"\"\n",
        "el término \"vector\" a menudo se utiliza de manera intercambiable con el término \"lista\". Sin embargo, en algunos contextos, puede haber una distinción sutil entre los dos términos. A continuación,\n",
        "la diferencia conceptual entre listas y vectores:\n",
        "    Listas:\n",
        "        En Python, una lista es una estructura de datos que puede contener elementos de diferentes tipos.\n",
        "        Los elementos de una lista no tienen que ser del mismo tipo. Puedes tener una lista que contenga números, cadenas de texto, booleanos, objetos, etc.\n",
        "        Puedes modificar una lista fácilmente agregando, eliminando o modificando elementos en cualquier posición.\n",
        "        Las listas en Python son dinámicas, lo que significa que pueden crecer o disminuir de tamaño según sea necesario.\n",
        "\n",
        "    Vectores:\n",
        "        En un sentido más estricto, un vector se refiere a una secuencia de elementos de un solo tipo, generalmente numérico.\n",
        "        Los vectores se utilizan con mayor frecuencia en el contexto de cálculos matemáticos y científicos.\n",
        "        A diferencia de las listas, los vectores suelen tener una dimensión fija y un tamaño predefinido.\n",
        "        Los vectores pueden ser manipulados utilizando operaciones vectoriales, como la suma, la resta, el producto escalar y el producto cruz.\n",
        "\n",
        "En Python, dado que las listas son más flexibles y pueden contener elementos de diferentes tipos, se utilizan comúnmente para representar tanto listas genéricas como vectores. Además,\n",
        " muchas operaciones matemáticas se pueden realizar en listas utilizando comprensiones de listas o funciones incorporadas. Sin embargo, si necesitas un comportamiento más especializado y\n",
        "una eficiencia computacional optimizada para cálculos numéricos, podrías considerar el uso de bibliotecas externas como NumPy,\n",
        "que proporciona una estructura de datos específica llamada \"array\" que se asemeja más a un vector en el sentido matemático\n",
        "\"\""
      ],
      "metadata": {
        "id": "7S_hiIJcSnJS"
      },
      "execution_count": null,
      "outputs": []
    },
    {
      "cell_type": "markdown",
      "source": [
        "    Agregar elementos:\n",
        "        append(elemento): Agrega un elemento al final de la lista.\n",
        "        extend(iterable): Agrega todos los elementos de un iterable al final de la lista.\n",
        "        insert(posición, elemento): Inserta un elemento en una posición específica.\n",
        "\n",
        "    Acceder a elementos:\n",
        "        lista[posición]: Accede al elemento en la posición especificada.\n",
        "        lista[inicio:fin]: Devuelve una porción de la lista desde la posición de inicio hasta la posición de fin.\n",
        "\n",
        "    Eliminar elementos:\n",
        "        remove(elemento): Elimina la primera aparición del elemento en la lista.\n",
        "        pop([posición]): Elimina y devuelve el elemento en la posición especificada. Si no se especifica la posición, se elimina y\n",
        "         devuelve el último elemento.\n",
        "        del lista[posición]: Elimina el elemento en la posición especificada.\n",
        "\n",
        "    Buscar elementos:\n",
        "        index(elemento): Devuelve la posición del primer elemento que coincida con el valor especificado.\n",
        "        count(elemento): Devuelve el número de veces que aparece un elemento en la lista.\n",
        "\n",
        "    Ordenar y modificar la lista:\n",
        "        sort(): Ordena la lista en orden ascendente.\n",
        "        reverse(): Invierte el orden de los elementos en la lista.\n"
      ],
      "metadata": {
        "id": "ZnQBxPctVNPw"
      }
    },
    {
      "cell_type": "code",
      "source": [
        "#Agregar elementos:\n",
        "lista = []  # Crear una lista vacía\n",
        "\n",
        "lista.append(10)  # Agregar un elemento al final de la lista\n",
        "print(lista)  # Resultado: [10]\n",
        "\n",
        "lista.extend([20, 30, 40])  # Agregar varios elementos al final de la lista\n",
        "print(lista)  # Resultado: [10, 20, 30, 40]\n",
        "\n",
        "lista.insert(1, 15)  # Insertar un elemento en la posición 1\n",
        "print(lista)  # Resultado: [10, 15, 20, 30, 40]"
      ],
      "metadata": {
        "colab": {
          "base_uri": "https://localhost:8080/"
        },
        "id": "6noln6QNTwnB",
        "outputId": "1131468c-8f73-45de-f4a8-40b4180182b9"
      },
      "execution_count": null,
      "outputs": [
        {
          "output_type": "stream",
          "name": "stdout",
          "text": [
            "[10]\n",
            "[10, 20, 30, 40]\n",
            "[10, 15, 20, 30, 40]\n"
          ]
        }
      ]
    },
    {
      "cell_type": "code",
      "source": [
        "#Acceder a elementos:\n",
        "lista = [10, 20, 30, 40, 50]\n",
        "\n",
        "print(lista[2])  # Acceder al elemento en la posición 2. Resultado: 30\n",
        "\n",
        "sublista = lista[1:4]  # Obtener una porción de la lista\n",
        "print(sublista)  # Resultado: [20, 30, 40]"
      ],
      "metadata": {
        "colab": {
          "base_uri": "https://localhost:8080/"
        },
        "id": "uk8e5BhAX0ew",
        "outputId": "0c0301c8-9b62-4a65-97e7-789dc7bd6b74"
      },
      "execution_count": null,
      "outputs": [
        {
          "output_type": "stream",
          "name": "stdout",
          "text": [
            "30\n",
            "[20, 30, 40]\n"
          ]
        }
      ]
    },
    {
      "cell_type": "code",
      "source": [
        "#Eliminar elementos:\n",
        "lista = [10, 15, 20, 30, 40]\n",
        "\n",
        "lista.remove(20)  # Eliminar el elemento 20\n",
        "print(lista)  # Resultado: [10, 15, 30, 40]\n",
        "\n",
        "elemento = lista.pop(2)  # Eliminar y obtener el elemento en la posición 2\n",
        "print(elemento)  # Resultado: 30\n",
        "print(lista)  # Resultado: [10, 15, 40]\n",
        "\n",
        "del lista[0]  # Eliminar el elemento en la posición 0\n",
        "print(lista)  # Resultado: [15, 40]"
      ],
      "metadata": {
        "colab": {
          "base_uri": "https://localhost:8080/"
        },
        "id": "f1BTGtoDX32M",
        "outputId": "5bd5615e-731c-4cd0-8812-97dd74479b21"
      },
      "execution_count": null,
      "outputs": [
        {
          "output_type": "stream",
          "name": "stdout",
          "text": [
            "[10, 15, 30, 40]\n",
            "30\n",
            "[10, 15, 40]\n",
            "[15, 40]\n"
          ]
        }
      ]
    },
    {
      "cell_type": "code",
      "source": [
        "#Buscar Elemento\n",
        "lista = [10, 20, 30, 20, 40]\n",
        "\n",
        "indice = lista.index(20)  # Obtener la posición del primer elemento 20\n",
        "print(indice)  # Resultado: 1\n",
        "\n",
        "contador = lista.count(20)  # Contar cuántas veces aparece el elemento 20\n",
        "print(contador)  # Resultado: 2"
      ],
      "metadata": {
        "colab": {
          "base_uri": "https://localhost:8080/"
        },
        "id": "zAviWOKZZ0gy",
        "outputId": "1d152f8c-2a5e-40f3-bee1-29972813649a"
      },
      "execution_count": null,
      "outputs": [
        {
          "output_type": "stream",
          "name": "stdout",
          "text": [
            "1\n",
            "2\n"
          ]
        }
      ]
    },
    {
      "cell_type": "code",
      "source": [
        "#Ordenar y modificar la lista:\n",
        "lista = [30, 10, 50, 20, 40]\n",
        "\n",
        "lista.sort()  # Ordenar la lista en orden ascendente\n",
        "print(lista)  # Resultado: [10, 20, 30, 40, 50]\n",
        "\n",
        "lista.reverse()  # Invertir el orden de los elementos en la lista\n",
        "print(lista)  # Resultado: [50, 40, 30, 20, 10]"
      ],
      "metadata": {
        "colab": {
          "base_uri": "https://localhost:8080/"
        },
        "id": "suE_Rb5YYMr7",
        "outputId": "2e87fef2-4e5c-4687-e74a-f16483b1c1d9"
      },
      "execution_count": null,
      "outputs": [
        {
          "output_type": "stream",
          "name": "stdout",
          "text": [
            "[10, 20, 30, 40, 50]\n",
            "[50, 40, 30, 20, 10]\n"
          ]
        }
      ]
    },
    {
      "cell_type": "markdown",
      "source": [
        "En Python, una cadena es una secuencia de caracteres encerrados entre comillas, ya sea comillas simples (''), comillas dobles (\"\") o triple comillas (''' '''). Es uno de los tipos de datos fundamentales en Python y se utiliza para representar texto.\n",
        "\n",
        "Las cadenas son inmutables, lo que significa que no se pueden modificar después de ser creadas. Sin embargo, puedes realizar diversas operaciones y manipulaciones con ellas. Algunas de las operaciones más comunes que puedes realizar con cadenas en Python incluyen:"
      ],
      "metadata": {
        "id": "v2__ZE05hfK2"
      }
    },
    {
      "cell_type": "markdown",
      "source": [
        "    Manejo de Cadenas\n",
        "    Obtener información sobre la cadena:\n",
        "        len(cadena): Devuelve la longitud de la cadena.\n",
        "        cadena.lower(): Devuelve una copia de la cadena en minúsculas.\n",
        "        cadena.upper(): Devuelve una copia de la cadena en mayúsculas.\n",
        "        cadena.isalpha(): Devuelve True si todos los caracteres de la cadena son letras (alfabéticos).\n",
        "\n",
        "    Buscar y reemplazar:\n",
        "        cadena.find(subcadena): Devuelve la posición de la primera aparición de la subcadena en la cadena, o -1 si no se encuentra.\n",
        "        cadena.replace(vieja, nueva): Reemplaza todas las apariciones de la subcadena \"vieja\" por la subcadena \"nueva\".\n",
        "\n",
        "    Dividir y combinar:\n",
        "        cadena.split(separador): Divide la cadena en una lista de subcadenas en función del separador especificado.\n",
        "        separador.join(lista): Combina los elementos de una lista en una cadena, utilizando el separador especificado entre ellos.\n",
        "\n",
        "    Eliminar espacios en blanco:\n",
        "        cadena.strip(): Elimina los espacios en blanco al principio y al final de la cadena.\n",
        "        cadena.lstrip(): Elimina los espacios en blanco al principio de la cadena.\n",
        "        cadena.rstrip(): Elimina los espacios en blanco al final de la cadena.\n",
        "\n",
        "    Verificar contenido:\n",
        "        cadena.startswith(prefijo): Devuelve True si la cadena comienza con el prefijo especificado.\n",
        "        cadena.endswith(sufijo): Devuelve True si la cadena termina con el sufijo especificado.\n",
        "        cadena.isnumeric(): Devuelve True si todos los caracteres de la cadena son numéricos."
      ],
      "metadata": {
        "id": "9qD6DLB2cO6-"
      }
    },
    {
      "cell_type": "code",
      "source": [
        "# Obtener información sobre la cadena\n",
        "cadena = \"Hola, mundo!\"\n",
        "print(len(cadena))  # Resultado: 12\n",
        "print(cadena.lower())  # Resultado: hola, mundo!\n",
        "print(cadena.upper())  # Resultado: HOLA, MUNDO!\n",
        "print(cadena.isalpha())  # Resultado: False"
      ],
      "metadata": {
        "colab": {
          "base_uri": "https://localhost:8080/"
        },
        "id": "bxa4CJUgcMsU",
        "outputId": "8091fb02-c393-4b39-97b4-c855626840b1"
      },
      "execution_count": null,
      "outputs": [
        {
          "output_type": "stream",
          "name": "stdout",
          "text": [
            "12\n",
            "hola, mundo!\n",
            "HOLA, MUNDO!\n",
            "False\n"
          ]
        }
      ]
    },
    {
      "cell_type": "code",
      "source": [
        "# Buscar y reemplazar\n",
        "print(cadena.find(\"mundo\"))  # Resultado: 6\n",
        "print(cadena.replace(\"Hola\", \"Adiós\"))  # Resultado: Adiós, mundo!"
      ],
      "metadata": {
        "colab": {
          "base_uri": "https://localhost:8080/"
        },
        "id": "I5HS6QNsf5Cz",
        "outputId": "091b30ae-1001-4679-9e75-b17934e17d1e"
      },
      "execution_count": null,
      "outputs": [
        {
          "output_type": "stream",
          "name": "stdout",
          "text": [
            "6\n",
            "Adiós, mundo!\n"
          ]
        }
      ]
    },
    {
      "cell_type": "code",
      "source": [
        "# Dividir y combinar\n",
        "print(cadena.split(\",\"))  # Resultado: ['Hola', ' mundo!']\n",
        "print(\"-\".join(['Hola', 'mundo']))  # Resultado: Hola-mundo"
      ],
      "metadata": {
        "colab": {
          "base_uri": "https://localhost:8080/"
        },
        "id": "k0wmcTomf73b",
        "outputId": "4ffee9f1-3822-4eec-a6a3-9103d79be599"
      },
      "execution_count": null,
      "outputs": [
        {
          "output_type": "stream",
          "name": "stdout",
          "text": [
            "['Hola', ' mundo!']\n",
            "Hola-mundo\n"
          ]
        }
      ]
    },
    {
      "cell_type": "code",
      "source": [
        "# Eliminar espacios en blanco\n",
        "cadena_con_espacios = \"   Hola, mundo!   \"\n",
        "print(cadena_con_espacios.strip())  # Resultado: Hola, mundo!"
      ],
      "metadata": {
        "colab": {
          "base_uri": "https://localhost:8080/"
        },
        "id": "op4SoCrEf_Bg",
        "outputId": "09a43223-e609-41da-9a1f-d1e3d3e10da0"
      },
      "execution_count": null,
      "outputs": [
        {
          "output_type": "stream",
          "name": "stdout",
          "text": [
            "Hola, mundo!\n"
          ]
        }
      ]
    },
    {
      "cell_type": "code",
      "source": [
        "# Verificar contenido\n",
        "print(cadena.startswith(\"Hola\"))  # Resultado: True\n",
        "print(cadena.endswith(\"!\"))  # Resultado: True\n",
        "print(cadena.isnumeric())  # Resultado: False"
      ],
      "metadata": {
        "colab": {
          "base_uri": "https://localhost:8080/"
        },
        "id": "c5w4I9OcgA9B",
        "outputId": "72ad1503-9289-4f1e-82a7-74202d338c6f"
      },
      "execution_count": null,
      "outputs": [
        {
          "output_type": "stream",
          "name": "stdout",
          "text": [
            "True\n",
            "True\n",
            "False\n"
          ]
        }
      ]
    },
    {
      "cell_type": "markdown",
      "source": [
        "Un diccionario en Python es una estructura de datos que almacena pares de clave-valor, donde cada clave es única dentro del diccionario. Permite acceder rápidamente a los valores asociados a una clave específica sin tener que recorrer toda la estructura.\n",
        "\n",
        "Los diccionarios en Python son mutables, lo que significa que se pueden modificar añadiendo, eliminando o actualizando pares clave-valor. A continuación, se presentan algunos métodos básicos utilizados con diccionarios:\n",
        "\n",
        "    Crear un diccionario:\n",
        "        diccionario = {}: Crea un diccionario vacío.\n",
        "        diccionario = {'clave1': valor1, 'clave2': valor2}: Crea un diccionario con pares clave-valor predefinidos.\n",
        "\n",
        "    Acceder y modificar elementos:\n",
        "        diccionario['clave']: Accede al valor asociado a la clave especificada.\n",
        "        diccionario['clave'] = nuevo_valor: Modifica el valor asociado a una clave existente o crea una nueva clave-valor si no existe.\n",
        "\n",
        "    Agregar y eliminar elementos:\n",
        "        diccionario['nueva_clave'] = nuevo_valor: Agrega una nueva clave-valor al diccionario.\n",
        "        del diccionario['clave']: Elimina una clave-valor del diccionario.\n",
        "        diccionario.pop('clave'): Elimina una clave-valor del diccionario y devuelve su valor.\n",
        "        diccionario.clear(): Elimina todos los elementos del diccionario, dejándolo vacío.\n",
        "\n",
        "    Verificar la existencia de claves:\n",
        "        'clave' in diccionario: Verifica si una clave existe en el diccionario.\n",
        "        'clave' not in diccionario: Verifica si una clave no existe en el diccionario.\n",
        "\n",
        "    Obtener información del diccionario:\n",
        "        len(diccionario): Devuelve la cantidad de pares clave-valor en el diccionario.\n",
        "        diccionario.keys(): Devuelve una lista con todas las claves del diccionario.\n",
        "        diccionario.values(): Devuelve una lista con todos los valores del diccionario.\n",
        "        diccionario.items(): Devuelve una lista de tuplas (clave, valor) que representan los pares clave-valor del diccionario."
      ],
      "metadata": {
        "id": "6b1I9Wb-jTZW"
      }
    },
    {
      "cell_type": "code",
      "source": [
        "diccionario = {'nombre': 'Juan', 'edad': 25, 'ciudad': 'Madrid'}\n",
        "\n",
        "# Acceder y modificar elementos\n",
        "print(diccionario['nombre'])  # Resultado: Juan\n",
        "diccionario['edad'] = 26\n",
        "print(diccionario)  # Resultado: {'nombre': 'Juan', 'edad': 26, 'ciudad': 'Madrid'}\n"
      ],
      "metadata": {
        "colab": {
          "base_uri": "https://localhost:8080/"
        },
        "id": "cVWji28Bj-xS",
        "outputId": "f1a34c0b-ae6e-43d2-bfdd-21f0db85c80c"
      },
      "execution_count": null,
      "outputs": [
        {
          "output_type": "stream",
          "name": "stdout",
          "text": [
            "Juan\n",
            "{'nombre': 'Juan', 'edad': 26, 'ciudad': 'Madrid'}\n"
          ]
        }
      ]
    },
    {
      "cell_type": "code",
      "source": [
        "# Agregar y eliminar elementos\n",
        "diccionario['profesion'] = 'Ingeniero'\n",
        "print(diccionario)  # Resultado: {'nombre': 'Juan', 'edad': 26, 'ciudad': 'Madrid', 'profesion': 'Ingeniero'}\n",
        "\n",
        "del diccionario['ciudad']\n",
        "print(diccionario)  # Resultado: {'nombre': 'Juan', 'edad': 26, 'profesion': 'Ingeniero'}\n",
        "\n",
        "valor = diccionario.pop('edad')\n",
        "print(valor)  # Resultado: 26\n",
        "print(diccionario)  # Resultado: {'nombre': 'Juan', 'profesion': 'Ingeniero'}\n",
        "\n",
        "diccionario.clear()\n",
        "print(diccionario)  # Resultado: {}"
      ],
      "metadata": {
        "colab": {
          "base_uri": "https://localhost:8080/"
        },
        "id": "mkjsPB6kkJ2C",
        "outputId": "c8c9a9a1-72c1-4b54-8528-c4020ae77d26"
      },
      "execution_count": null,
      "outputs": [
        {
          "output_type": "stream",
          "name": "stdout",
          "text": [
            "{'nombre': 'Juan', 'edad': 26, 'ciudad': 'Madrid', 'profesion': 'Ingeniero'}\n",
            "{'nombre': 'Juan', 'edad': 26, 'profesion': 'Ingeniero'}\n",
            "26\n",
            "{'nombre': 'Juan', 'profesion': 'Ingeniero'}\n",
            "{}\n"
          ]
        }
      ]
    },
    {
      "cell_type": "code",
      "source": [
        "# Verificar la existencia de claves\n",
        "print('nombre' in diccionario)  # Resultado: True\n",
        "print('edad' not in diccionario)  # Resultado: True"
      ],
      "metadata": {
        "colab": {
          "base_uri": "https://localhost:8080/"
        },
        "id": "p-EJibQCkXT9",
        "outputId": "4a6c69e4-ccde-42e6-b5e6-f238fe71cbdd"
      },
      "execution_count": null,
      "outputs": [
        {
          "output_type": "stream",
          "name": "stdout",
          "text": [
            "False\n",
            "True\n"
          ]
        }
      ]
    },
    {
      "cell_type": "code",
      "source": [
        "# Obtener información del diccionario\n",
        "print(len(diccionario))  # Resultado: 0\n",
        "print(diccionario.keys())  # Resultado: []\n",
        "print(diccionario.values())  # Resultado: []\n",
        "print(diccionario.items())  # Resultado: []"
      ],
      "metadata": {
        "colab": {
          "base_uri": "https://localhost:8080/"
        },
        "id": "57GYiuMukdWN",
        "outputId": "34b80375-58a2-4d4f-c5f2-3574c5cb73d6"
      },
      "execution_count": null,
      "outputs": [
        {
          "output_type": "stream",
          "name": "stdout",
          "text": [
            "0\n",
            "dict_keys([])\n",
            "dict_values([])\n",
            "dict_items([])\n"
          ]
        }
      ]
    },
    {
      "cell_type": "code",
      "source": [
        "#Listas de diccionario\n",
        "# Crear una lista de diccionarios\n",
        "lista = [\n",
        "    {'nombre': 'Juan', 'edad': 25},\n",
        "    {'nombre': 'María', 'edad': 30},\n",
        "    {'nombre': 'Carlos', 'edad': 40}\n",
        "]"
      ],
      "metadata": {
        "id": "-c7aBrGAlJEX"
      },
      "execution_count": 1,
      "outputs": []
    },
    {
      "cell_type": "code",
      "source": [
        "# Acceder a elementos de la lista y diccionarios\n",
        "print(lista[0])  # Resultado: {'nombre': 'Juan', 'edad': 25}\n",
        "print(lista[1]['nombre'])  # Resultado: 'María'"
      ],
      "metadata": {
        "colab": {
          "base_uri": "https://localhost:8080/"
        },
        "id": "lDx8sW2olQlb",
        "outputId": "4b237417-5894-4432-e02c-b76b5daa1be1"
      },
      "execution_count": 2,
      "outputs": [
        {
          "output_type": "stream",
          "name": "stdout",
          "text": [
            "{'nombre': 'Juan', 'edad': 25}\n",
            "María\n"
          ]
        }
      ]
    },
    {
      "cell_type": "code",
      "source": [
        "# Agregar y eliminar elementos\n",
        "nuevo_diccionario = {'nombre': 'Ana', 'edad': 35}\n",
        "lista.append(nuevo_diccionario)  # Agregar un nuevo diccionario al final de la lista\n",
        "print (lista)\n",
        "del lista[1]  # Eliminar el segundo diccionario de la lista\n",
        "print (lista)"
      ],
      "metadata": {
        "colab": {
          "base_uri": "https://localhost:8080/"
        },
        "id": "WROpXn4qlTBa",
        "outputId": "e1143858-ede1-4d2b-af66-da4e51eae2f9"
      },
      "execution_count": null,
      "outputs": [
        {
          "output_type": "stream",
          "name": "stdout",
          "text": [
            "[{'nombre': 'Juan', 'edad': 25}, {'nombre': 'María', 'edad': 30}, {'nombre': 'Carlos', 'edad': 40}, {'nombre': 'Ana', 'edad': 35}]\n",
            "[{'nombre': 'Juan', 'edad': 25}, {'nombre': 'Carlos', 'edad': 40}, {'nombre': 'Ana', 'edad': 35}]\n"
          ]
        }
      ]
    },
    {
      "cell_type": "code",
      "source": [
        "# Recorrer la lista de diccionarios\n",
        "for diccionario in lista:\n",
        "    print(diccionario['nombre'], diccionario['edad'])"
      ],
      "metadata": {
        "colab": {
          "base_uri": "https://localhost:8080/"
        },
        "id": "WoFho-Pjli6e",
        "outputId": "d4963eb5-3d71-40a9-dad0-9580257648a0"
      },
      "execution_count": null,
      "outputs": [
        {
          "output_type": "stream",
          "name": "stdout",
          "text": [
            "Juan 25\n",
            "Carlos 40\n",
            "Ana 35\n"
          ]
        }
      ]
    },
    {
      "cell_type": "code",
      "source": [
        "# Filtrar elementos en la lista de diccionarios\n",
        "print (lista)\n",
        "nueva_lista = [diccionario for diccionario in lista if diccionario['edad'] > 30]\n",
        "print (nueva_lista)"
      ],
      "metadata": {
        "colab": {
          "base_uri": "https://localhost:8080/"
        },
        "id": "vD76gFE1liwH",
        "outputId": "eb66a827-9f3a-46ab-c652-00ef0bbe6bab"
      },
      "execution_count": null,
      "outputs": [
        {
          "output_type": "stream",
          "name": "stdout",
          "text": [
            "[{'nombre': 'Juan', 'edad': 25}, {'nombre': 'Carlos', 'edad': 40}, {'nombre': 'Ana', 'edad': 35}]\n",
            "[{'nombre': 'Carlos', 'edad': 40}, {'nombre': 'Ana', 'edad': 35}]\n"
          ]
        }
      ]
    },
    {
      "cell_type": "code",
      "source": [
        "# Ordenar la lista de diccionarios por una clave\n",
        "lista.sort(key=lambda x: x['nombre'])  # Ordenar por la clave 'nombre'\n",
        "lista"
      ],
      "metadata": {
        "colab": {
          "base_uri": "https://localhost:8080/"
        },
        "id": "_6KwOre_mAB6",
        "outputId": "990c546b-980f-44ff-ddcd-b928bbc71250"
      },
      "execution_count": null,
      "outputs": [
        {
          "output_type": "execute_result",
          "data": {
            "text/plain": [
              "[{'nombre': 'Ana', 'edad': 35},\n",
              " {'nombre': 'Ana', 'edad': 35},\n",
              " {'nombre': 'Juan', 'edad': 25}]"
            ]
          },
          "metadata": {},
          "execution_count": 39
        }
      ]
    },
    {
      "cell_type": "markdown",
      "source": [
        "las funciones son bloques de código reutilizables que realizan una tarea específica. Permiten encapsular un conjunto de instrucciones y ejecutarlas cuando sea necesario, pasando parámetros de entrada y devolviendo un resultado opcional. Aquí tienes un ejemplo básico de cómo definir una función en Python:\n",
        "\n",
        "\n",
        "def nombre_de_la_funcion(parametro1, parametro2):\n",
        "    # Cuerpo de la función\n",
        "    # Realizar acciones con los parámetros\n",
        "    resultado = parametro1 + parametro2\n",
        "    return resultado\n",
        "\n",
        "En este ejemplo, se define una función llamada \"nombre_de_la_funcion\" que acepta dos parámetros: \"parametro1\" y \"parametro2\". El cuerpo de la función contiene las instrucciones a ejecutar, y en este caso, se realiza una suma de los dos parámetros y se devuelve el resultado utilizando la declaración \"return\".\n",
        "\n",
        "Luego de definir la función, se puede llamar o invocar en cualquier parte del código de la siguiente manera:\n",
        "\n",
        "\n",
        "resultado = nombre_de_la_funcion(3, 5)\n",
        "print(resultado)  # Resultado: 8\n",
        "\n",
        "En este ejemplo, se llama a la función \"nombre_de_la_funcion\" pasando los argumentos 3 y 5. El resultado de la función se asigna a la variable \"resultado\" y se imprime por pantalla.\n",
        "\n",
        "Además de los parámetros y el valor de retorno, las funciones en Python pueden tener otras características, como parámetros opcionales con valores por defecto, número variable de argumentos, y la posibilidad de no devolver ningún valor explícito utilizando la declaración \"return\" sin argumentos.\n",
        "\n",
        "Es posible definir funciones con cualquier nombre válido en Python, y es recomendable utilizar nombres descriptivos que reflejen la tarea que realiza la función.\n",
        "\n",
        "Las funciones son una herramienta fundamental en la programación, ya que permiten organizar y modularizar el código, mejorando su legibilidad, reusabilidad y mantenibilidad."
      ],
      "metadata": {
        "id": "hzyQND6RmhOv"
      }
    },
    {
      "cell_type": "code",
      "source": [
        "#Funciones  sin parametro\n",
        "def saludar():\n",
        "    print(\"¡Hola, bienvenido!\")\n",
        "\n",
        "saludar()  # Llamada a la función\n"
      ],
      "metadata": {
        "colab": {
          "base_uri": "https://localhost:8080/"
        },
        "id": "kOL7IJ79mTKm",
        "outputId": "c4643fad-3746-4718-9c23-8578c4291f04"
      },
      "execution_count": null,
      "outputs": [
        {
          "output_type": "stream",
          "name": "stdout",
          "text": [
            "¡Hola, bienvenido!\n"
          ]
        }
      ]
    },
    {
      "cell_type": "code",
      "source": [
        "#Funciones con parametros\n",
        "def sumar(a, b):\n",
        "    resultado = a + b\n",
        "    return resultado\n",
        "\n",
        "res = sumar(3, 5)  # Llamada a la función con argumentos\n",
        "print(res)  # Resultado: 8\n"
      ],
      "metadata": {
        "id": "XqxLfevqu-Cc",
        "outputId": "a752c319-1628-47a0-b74c-9f31781760f1",
        "colab": {
          "base_uri": "https://localhost:8080/"
        }
      },
      "execution_count": null,
      "outputs": [
        {
          "output_type": "stream",
          "name": "stdout",
          "text": [
            "8\n"
          ]
        }
      ]
    }
  ]
}